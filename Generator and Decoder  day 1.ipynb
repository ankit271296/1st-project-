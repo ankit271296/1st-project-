{
 "cells": [
  {
   "cell_type": "markdown",
   "id": "1bc9ac68",
   "metadata": {},
   "source": [
    "Generator-"
   ]
  },
  {
   "cell_type": "code",
   "execution_count": 58,
   "id": "4d4fd1ac",
   "metadata": {},
   "outputs": [
    {
     "name": "stdout",
     "output_type": "stream",
     "text": [
      "1\n",
      "hello\n",
      "3\n"
     ]
    }
   ],
   "source": [
    "def f1():\n",
    "    yield 1\n",
    "    yield \"hello\"\n",
    "    yield 3\n",
    "    \n",
    "for i in f1():\n",
    "    print(i)"
   ]
  },
  {
   "cell_type": "code",
   "execution_count": 59,
   "id": "41373a43",
   "metadata": {},
   "outputs": [
    {
     "name": "stdout",
     "output_type": "stream",
     "text": [
      "20\n",
      "hi\n",
      "{1, 2, 3}\n",
      "[7, 8, 9]\n"
     ]
    }
   ],
   "source": [
    "def f1():\n",
    "    yield 4*5\n",
    "    yield \"hi\"\n",
    "    yield {1,2,3}\n",
    "    yield [x+3 for x in range(4,7)]\n",
    "a = f1()\n",
    "for i in a:\n",
    "    print(i)"
   ]
  },
  {
   "cell_type": "markdown",
   "id": "a153aab4",
   "metadata": {},
   "source": [
    "Generator - object :-"
   ]
  },
  {
   "cell_type": "code",
   "execution_count": 17,
   "id": "f37a2edd",
   "metadata": {},
   "outputs": [
    {
     "name": "stdout",
     "output_type": "stream",
     "text": [
      "1\n",
      "4\n",
      "9\n",
      "16\n"
     ]
    }
   ],
   "source": [
    "r = [1,2,3,4]\n",
    "def sqr():\n",
    "    for i in r:\n",
    "        yield i**2\n",
    "        \n",
    "a = sqr()\n",
    "        \n",
    "print(next(a))\n",
    "print(next(a))\n",
    "print(next(a))\n",
    "print(next(a))"
   ]
  },
  {
   "cell_type": "code",
   "execution_count": 18,
   "id": "2451ae83",
   "metadata": {},
   "outputs": [
    {
     "name": "stdout",
     "output_type": "stream",
     "text": [
      "0\n",
      "1\n",
      "8\n",
      "27\n"
     ]
    }
   ],
   "source": [
    "def cube():\n",
    "    for i in range(5):\n",
    "        yield i**3\n",
    "        \n",
    "num =cube()\n",
    "\n",
    "print(next(num))\n",
    "print(next(num))\n",
    "print(next(num))\n",
    "print(next(num))"
   ]
  },
  {
   "cell_type": "code",
   "execution_count": 27,
   "id": "9a6ea564",
   "metadata": {},
   "outputs": [],
   "source": [
    "def cube3():\n",
    "    for i in range(5,10):\n",
    "        yield i**3 "
   ]
  },
  {
   "cell_type": "code",
   "execution_count": 29,
   "id": "23407baf",
   "metadata": {},
   "outputs": [
    {
     "name": "stdout",
     "output_type": "stream",
     "text": [
      "125\n",
      "216\n",
      "343\n",
      "512\n",
      "729\n"
     ]
    }
   ],
   "source": [
    "n=cube3()\n",
    "for i in n:\n",
    "    print(i)"
   ]
  },
  {
   "cell_type": "markdown",
   "id": "8cf74fc4",
   "metadata": {},
   "source": [
    "Function Inside Function"
   ]
  },
  {
   "cell_type": "code",
   "execution_count": 38,
   "id": "534f9772",
   "metadata": {},
   "outputs": [
    {
     "name": "stdout",
     "output_type": "stream",
     "text": [
      "Happy New year\n"
     ]
    }
   ],
   "source": [
    "def fun1():\n",
    "    return \"Happy New year\"\n",
    "\n",
    "res = fun1()\n",
    "print (res)"
   ]
  },
  {
   "cell_type": "code",
   "execution_count": 42,
   "id": "c1a7205b",
   "metadata": {},
   "outputs": [
    {
     "name": "stdout",
     "output_type": "stream",
     "text": [
      "inside inner () function.\n"
     ]
    }
   ],
   "source": [
    "def outer():\n",
    "    def inner():\n",
    "        print(\"inside inner () function.\")\n",
    "    return inner\n",
    "    \n",
    "res = outer()\n",
    "res()\n",
    "    "
   ]
  },
  {
   "cell_type": "code",
   "execution_count": 43,
   "id": "f4272064",
   "metadata": {},
   "outputs": [
    {
     "name": "stdout",
     "output_type": "stream",
     "text": [
      "inner inner() functiom\n"
     ]
    }
   ],
   "source": [
    "def outer():\n",
    "    def inner():\n",
    "        print(\"inner inner() functiom\")\n",
    "    inner()\n",
    "outer()"
   ]
  },
  {
   "cell_type": "markdown",
   "id": "5e5eb842",
   "metadata": {},
   "source": [
    "Decorator:-"
   ]
  },
  {
   "cell_type": "code",
   "execution_count": 54,
   "id": "930b0ec4",
   "metadata": {},
   "outputs": [],
   "source": [
    "def decorator_fun(original_fun):\n",
    "    def wrapper_fun():\n",
    "        return original_fun()\n",
    "    return wrapper_fun\n",
    "    \n",
    "def display():\n",
    "    print('this is wrapped function')\n",
    "        "
   ]
  },
  {
   "cell_type": "code",
   "execution_count": 55,
   "id": "d9789a4c",
   "metadata": {},
   "outputs": [
    {
     "name": "stdout",
     "output_type": "stream",
     "text": [
      "this is wrapped function\n"
     ]
    }
   ],
   "source": [
    "t1 = decorator_fun(display)\n",
    "t1()"
   ]
  },
  {
   "cell_type": "markdown",
   "id": "426e6037",
   "metadata": {},
   "source": [
    "Decorators with args and kwargs"
   ]
  },
  {
   "cell_type": "code",
   "execution_count": 60,
   "id": "6dfbd65b",
   "metadata": {},
   "outputs": [],
   "source": [
    "def decorator_fun(original_fun):\n",
    "    def wrapper_fun(*args):\n",
    "        print('First Statement')\n",
    "        return original_fun(*args)\n",
    "    return wrapper_fun\n",
    "\n",
    "@decorator_fun\n",
    "def display():\n",
    "    print('This is wrapped function')\n",
    "\n",
    "@decorator_fun\n",
    "def display_info(name,age):\n",
    "    print('Name is {} and age is {}'.format(name,age))"
   ]
  },
  {
   "cell_type": "code",
   "execution_count": 61,
   "id": "8eb2ffb9",
   "metadata": {},
   "outputs": [
    {
     "name": "stdout",
     "output_type": "stream",
     "text": [
      "First Statement\n",
      "This is wrapped function\n"
     ]
    }
   ],
   "source": [
    "display()"
   ]
  },
  {
   "cell_type": "code",
   "execution_count": 62,
   "id": "95d092e4",
   "metadata": {},
   "outputs": [
    {
     "name": "stdout",
     "output_type": "stream",
     "text": [
      "First Statement\n",
      "Name is Manoj and age is 34\n"
     ]
    }
   ],
   "source": [
    "display_info('Manoj',34)"
   ]
  },
  {
   "cell_type": "code",
   "execution_count": null,
   "id": "35242bab",
   "metadata": {},
   "outputs": [],
   "source": []
  }
 ],
 "metadata": {
  "kernelspec": {
   "display_name": "Python 3",
   "language": "python",
   "name": "python3"
  },
  "language_info": {
   "codemirror_mode": {
    "name": "ipython",
    "version": 3
   },
   "file_extension": ".py",
   "mimetype": "text/x-python",
   "name": "python",
   "nbconvert_exporter": "python",
   "pygments_lexer": "ipython3",
   "version": "3.8.8"
  }
 },
 "nbformat": 4,
 "nbformat_minor": 5
}
