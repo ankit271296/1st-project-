{
 "cells": [
  {
   "cell_type": "markdown",
   "id": "e3925fd6",
   "metadata": {},
   "source": [
    "Accept 3 no from the user and find the largest and smallest among them. Also find the difference between the largest and smallest number obrained.Also calculate how much peercent is smallest number of largest number.\n"
   ]
  },
  {
   "cell_type": "code",
   "execution_count": 18,
   "id": "70e74462",
   "metadata": {},
   "outputs": [
    {
     "name": "stdout",
     "output_type": "stream",
     "text": [
      "enter first number:10\n",
      "enter second number:20\n",
      "enter third number:30\n",
      "30 is largest\n",
      "10 is smallest\n",
      "the difference between the largest 30 and smallest 10 is 20\n",
      "10 is 33.33% of 30\n"
     ]
    }
   ],
   "source": [
    "a=int(input('enter first number:'))\n",
    "b=int(input('enter second number:'))\n",
    "c=int(input('enter third number:'))\n",
    "large,small=0,0\n",
    "if (a>b and a>c):\n",
    "    large=a\n",
    "elif(b>a and b>c):\n",
    "    large=b\n",
    "else:\n",
    "    large=c\n",
    "if (a<b and a<c):\n",
    "    small=a\n",
    "elif(b<a and b<c):\n",
    "    small=b\n",
    "else:\n",
    "    small=c\n",
    "    \n",
    "diff = large-small\n",
    "print(f'{large} is largest')\n",
    "print(f'{small} is smallest')\n",
    "print(f'the difference between the largest {large} and smallest {small} is {diff}')\n",
    "percent=(small/large)*100\n",
    "print(f'{small} is {round(percent,2)}% of {large}')"
   ]
  },
  {
   "cell_type": "markdown",
   "id": "20cc0860",
   "metadata": {},
   "source": [
    "2) Accept a students marks from the user and display result as per the condition given below:\n",
    "a) marks in between 0-30, display 'Fail'\n",
    "b) marks in between 30-50,display 'Just Pass'\n",
    "c) marks in between 50-70,display 'Average'\n",
    "d) marks in between 70-90,display 'Good'\n",
    "e) marks in between 90-100,display 'Outstanding'\n",
    "f) marks below 0 and marks above 100, display 'Invalid marks'"
   ]
  },
  {
   "cell_type": "code",
   "execution_count": 26,
   "id": "ea85c24a",
   "metadata": {},
   "outputs": [
    {
     "name": "stdout",
     "output_type": "stream",
     "text": [
      "Enter your Marks 70\n",
      "Average\n"
     ]
    }
   ],
   "source": [
    "n=int(input('Enter your Marks '))\n",
    "if (n>0 and n<=30):\n",
    "    print('Fail')\n",
    "elif(n>30 and n<=50):\n",
    "    print('pass')\n",
    "elif(n>50 and n<=70):\n",
    "    print('Average')\n",
    "elif(n>70 and n<=90):\n",
    "    print('Good')\n",
    "elif(n>90 and n<=100):\n",
    "    print('outstanding')\n",
    "else:\n",
    "    print('Invalid Marks')"
   ]
  },
  {
   "cell_type": "markdown",
   "id": "679246fb",
   "metadata": {},
   "source": [
    "For a given user entered number, if the number is between 1-100, find 20% of the number, if the number is between 100-300, find 30% of the number, if the number is between 300-700, find 40% of the number and if the number is between 700-1000, find 50% of the number. print invalid number otherwise."
   ]
  },
  {
   "cell_type": "code",
   "execution_count": 31,
   "id": "adf5d865",
   "metadata": {},
   "outputs": [
    {
     "name": "stdout",
     "output_type": "stream",
     "text": [
      "Enter a number600\n",
      "40 of 600 is 240.0\n"
     ]
    }
   ],
   "source": [
    "n=int(input('Enter a number'))\n",
    "if (n>1 and n<=100):\n",
    "    per=(20*n/100)\n",
    "    print(f'20% of {n} is {per}')\n",
    "elif(n>100 and n<=300):\n",
    "    per=(30*n/100)\n",
    "    print(f'30% of {n} is {per}')\n",
    "elif(n>300 and n<=700):\n",
    "    per=(40*n/100)\n",
    "    print(f'40 of {n} is {per}')\n",
    "elif(n>700 and n<=1000):\n",
    "    per=(50*n/100)\n",
    "    print(f'50 of {n} is {per}')\n",
    "else:\n",
    "    print('invalid number')"
   ]
  },
  {
   "cell_type": "markdown",
   "id": "7ce78e6e",
   "metadata": {},
   "source": [
    "Find factorial of a user given number using\n",
    "a) for loop\n",
    "b) while loop"
   ]
  },
  {
   "cell_type": "code",
   "execution_count": 33,
   "id": "97195498",
   "metadata": {},
   "outputs": [
    {
     "name": "stdout",
     "output_type": "stream",
     "text": [
      "Enter a number7\n",
      "factorial of 7 is 5040\n"
     ]
    }
   ],
   "source": [
    "n=int(input('Enter a number'))\n",
    "fact,i=1,1\n",
    "while(i<n+1):\n",
    "    fact*=i\n",
    "    i+=1\n",
    "print(f'factorial of { n} is {fact}')"
   ]
  },
  {
   "cell_type": "code",
   "execution_count": null,
   "id": "91bdee52",
   "metadata": {},
   "outputs": [],
   "source": []
  }
 ],
 "metadata": {
  "kernelspec": {
   "display_name": "Python 3",
   "language": "python",
   "name": "python3"
  },
  "language_info": {
   "codemirror_mode": {
    "name": "ipython",
    "version": 3
   },
   "file_extension": ".py",
   "mimetype": "text/x-python",
   "name": "python",
   "nbconvert_exporter": "python",
   "pygments_lexer": "ipython3",
   "version": "3.8.8"
  }
 },
 "nbformat": 4,
 "nbformat_minor": 5
}
