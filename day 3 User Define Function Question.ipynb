{
 "cells": [
  {
   "cell_type": "markdown",
   "id": "fc19e4f3",
   "metadata": {},
   "source": [
    "WAF to calculate SI given P,R,T as its arguments\n"
   ]
  },
  {
   "cell_type": "code",
   "execution_count": 1,
   "id": "4fb5590f",
   "metadata": {},
   "outputs": [],
   "source": [
    "def SI (p,r,t):\n",
    "    res=(p*r*t)/100\n",
    "    print('SI is ',res)\n",
    "    "
   ]
  },
  {
   "cell_type": "code",
   "execution_count": 2,
   "id": "0c90f083",
   "metadata": {},
   "outputs": [
    {
     "name": "stdout",
     "output_type": "stream",
     "text": [
      "SI is  1.2\n"
     ]
    }
   ],
   "source": [
    "SI (10,3,4)"
   ]
  },
  {
   "cell_type": "code",
   "execution_count": 3,
   "id": "30312399",
   "metadata": {},
   "outputs": [
    {
     "name": "stdout",
     "output_type": "stream",
     "text": [
      "SI is  2000.0\n"
     ]
    }
   ],
   "source": [
    "SI(100,40,50)"
   ]
  },
  {
   "cell_type": "markdown",
   "id": "98282680",
   "metadata": {},
   "source": [
    "WAF to calculate Profit or Loss and also find its percentage given CP and SP as its arguments."
   ]
  },
  {
   "cell_type": "code",
   "execution_count": 13,
   "id": "018f7d07",
   "metadata": {},
   "outputs": [],
   "source": [
    "def pl (cp,sp):\n",
    "    if (sp>cp):\n",
    "        pro =sp-cp\n",
    "        pp =(pro*100)/cp\n",
    "        print(f'profit is {pro} and profit percentage is {pp}%')\n",
    "    elif(cp>sp):\n",
    "        los=cp-sp\n",
    "        lp=(los*100)/cp\n",
    "        print(f'loss is {los} and los percentage is {lp}%')\n",
    "    else:\n",
    "        print('no profit no loss')"
   ]
  },
  {
   "cell_type": "code",
   "execution_count": 15,
   "id": "3d8a7216",
   "metadata": {},
   "outputs": [
    {
     "name": "stdout",
     "output_type": "stream",
     "text": [
      "profit is 100 and profit percentage is 100.0%\n",
      "profit is 10 and profit percentage is 20.0%\n",
      "loss is 40 and los percentage is 80.0%\n"
     ]
    }
   ],
   "source": [
    "pl(100,200)\n",
    "pl(50,60)\n",
    "pl(50,10)"
   ]
  },
  {
   "cell_type": "markdown",
   "id": "9d0d924e",
   "metadata": {},
   "source": [
    "WAF to calculate the diagonal of a rectangle given its area and breadth as its arguments"
   ]
  },
  {
   "cell_type": "code",
   "execution_count": 16,
   "id": "de3bda91",
   "metadata": {},
   "outputs": [],
   "source": [
    "def Rect(b,ar):\n",
    "    l=ar/b\n",
    "    diag=(1**2+b**2)**(1/2)\n",
    "    print(f'length of Rect is {1} Diagonal is {diag}')"
   ]
  },
  {
   "cell_type": "code",
   "execution_count": 20,
   "id": "57382f4f",
   "metadata": {},
   "outputs": [
    {
     "name": "stdout",
     "output_type": "stream",
     "text": [
      "length of Rect is 1 Diagonal is 8.06225774829855\n"
     ]
    }
   ],
   "source": [
    "Rect(8,6)"
   ]
  },
  {
   "cell_type": "markdown",
   "id": "5ef0d4b9",
   "metadata": {},
   "source": [
    "WAF to find the farenheit values corresponding to Celcius values ranging from 0 to 40"
   ]
  },
  {
   "cell_type": "code",
   "execution_count": 32,
   "id": "c3db5b1f",
   "metadata": {},
   "outputs": [
    {
     "name": "stdout",
     "output_type": "stream",
     "text": [
      "32.0\n",
      "33.8\n",
      "35.6\n",
      "37.4\n",
      "39.2\n",
      "41.0\n",
      "42.8\n",
      "44.6\n",
      "46.4\n",
      "48.2\n",
      "50.0\n",
      "51.8\n",
      "53.6\n",
      "55.400000000000006\n",
      "57.2\n",
      "59.0\n",
      "60.8\n",
      "62.6\n",
      "64.4\n",
      "66.2\n",
      "68.0\n",
      "69.80000000000001\n",
      "71.6\n",
      "73.4\n",
      "75.2\n",
      "77.0\n",
      "78.80000000000001\n",
      "80.6\n",
      "82.4\n",
      "84.2\n",
      "86.0\n",
      "87.80000000000001\n",
      "89.6\n",
      "91.4\n",
      "93.2\n",
      "95.0\n",
      "96.8\n",
      "98.60000000000001\n",
      "100.4\n",
      "102.2\n",
      "104.0\n"
     ]
    }
   ],
   "source": [
    "def F2C():\n",
    "    f =0\n",
    "    for c in range(0,41):\n",
    "        f=c*1.8+32\n",
    "        print(f)\n",
    "    \n",
    "F2C()"
   ]
  },
  {
   "cell_type": "code",
   "execution_count": 38,
   "id": "f1fac62b",
   "metadata": {},
   "outputs": [
    {
     "ename": "IndentationError",
     "evalue": "unexpected indent (<ipython-input-38-4497bba3e5be>, line 3)",
     "output_type": "error",
     "traceback": [
      "\u001b[1;36m  File \u001b[1;32m\"<ipython-input-38-4497bba3e5be>\"\u001b[1;36m, line \u001b[1;32m3\u001b[0m\n\u001b[1;33m    f = c*1.8+32\u001b[0m\n\u001b[1;37m    ^\u001b[0m\n\u001b[1;31mIndentationError\u001b[0m\u001b[1;31m:\u001b[0m unexpected indent\n"
     ]
    }
   ],
   "source": [
    "def F2C():\n",
    "    f =0\n",
    "        f = c*1.8+32\n",
    "        print(f)\n",
    "    \n",
    "F2C(31)"
   ]
  },
  {
   "cell_type": "code",
   "execution_count": 39,
   "id": "4916e64e",
   "metadata": {},
   "outputs": [
    {
     "name": "stdout",
     "output_type": "stream",
     "text": [
      "87.80000000000001\n"
     ]
    }
   ],
   "source": [
    "def F2C(c):\n",
    "    f = c *1.8 + 32\n",
    "    print(f)\n",
    "    \n",
    "\n",
    "F2C(31)"
   ]
  },
  {
   "cell_type": "markdown",
   "id": "9cd73e2f",
   "metadata": {},
   "source": [
    "WAF to find the TSA of a cone given its volume and height. Also find the area of the circular base."
   ]
  },
  {
   "cell_type": "code",
   "execution_count": 3,
   "id": "4c55502a",
   "metadata": {},
   "outputs": [
    {
     "name": "stdout",
     "output_type": "stream",
     "text": [
      "radius of base is 2.586\n",
      "slant height is 14.237\n",
      "tsa of cone is29.120344820264716 and area of the base is 21.0\n"
     ]
    }
   ],
   "source": [
    "def TSA (vol,h):\n",
    "    r = ((3*vol)/(3.14*h))**0.5\n",
    "    print(f'radius of base is {round(r,3)}')\n",
    "    l=(h**2+ r**2)**0.5\n",
    "    print(f'slant height is {round(l,3)}')\n",
    "    a_base =3.14*r*r\n",
    "    tsa=3.14*r*1 + a_base \n",
    "    print(f'tsa of cone is{tsa} and area of the base is {a_base}')\n",
    "                \n",
    "TSA(98,14)"
   ]
  },
  {
   "cell_type": "markdown",
   "id": "2663b242",
   "metadata": {},
   "source": [
    "WAF to find the sum and product of digits of a given number as its arguments"
   ]
  },
  {
   "cell_type": "code",
   "execution_count": 22,
   "id": "19af5e53",
   "metadata": {},
   "outputs": [
    {
     "name": "stdout",
     "output_type": "stream",
     "text": [
      "Sum and product of diits of 12375 are 18 and 210\n",
      "Sum and product of diits of 3587 are 23 and 840\n",
      "Sum and product of diits of 234 are 9 and 24\n"
     ]
    }
   ],
   "source": [
    "def spofdig(n):\n",
    "    temp,add,prod=n,0,1\n",
    "    while(temp>0):        \n",
    "        rem = temp%10   \n",
    "        add += rem      \n",
    "        prod *= rem    \n",
    "        temp//=10       \n",
    "    print(f'Sum and product of diits of {n} are {add} and {prod}')\n",
    "    \n",
    "spofdig(12375)\n",
    "spofdig(3587)\n",
    "spofdig(234)"
   ]
  },
  {
   "cell_type": "markdown",
   "id": "07cea778",
   "metadata": {},
   "source": [
    "WAF to find n digits of fibonaci series, given n as agrument using recursion [0,1,1,2,3,5,8,13,21,34,55......]"
   ]
  },
  {
   "cell_type": "code",
   "execution_count": 23,
   "id": "8615a13d",
   "metadata": {},
   "outputs": [],
   "source": [
    "def fib(n):\n",
    "    if(n<=1):\n",
    "        return n\n",
    "    else:\n",
    "        return fib(n-1)+fib(n-2)\n",
    "    "
   ]
  },
  {
   "cell_type": "code",
   "execution_count": 24,
   "id": "76ad70f7",
   "metadata": {},
   "outputs": [
    {
     "name": "stdout",
     "output_type": "stream",
     "text": [
      "0\n",
      "1\n",
      "1\n",
      "2\n",
      "3\n",
      "5\n",
      "8\n"
     ]
    }
   ],
   "source": [
    "for i in range(7):\n",
    "    print(fib(i))"
   ]
  },
  {
   "cell_type": "code",
   "execution_count": null,
   "id": "3777c822",
   "metadata": {},
   "outputs": [],
   "source": []
  }
 ],
 "metadata": {
  "kernelspec": {
   "display_name": "Python 3",
   "language": "python",
   "name": "python3"
  },
  "language_info": {
   "codemirror_mode": {
    "name": "ipython",
    "version": 3
   },
   "file_extension": ".py",
   "mimetype": "text/x-python",
   "name": "python",
   "nbconvert_exporter": "python",
   "pygments_lexer": "ipython3",
   "version": "3.8.8"
  }
 },
 "nbformat": 4,
 "nbformat_minor": 5
}
